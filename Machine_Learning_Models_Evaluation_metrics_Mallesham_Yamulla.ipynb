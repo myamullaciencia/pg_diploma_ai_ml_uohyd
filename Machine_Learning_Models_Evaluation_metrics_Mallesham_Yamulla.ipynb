{
  "nbformat": 4,
  "nbformat_minor": 0,
  "metadata": {
    "colab": {
      "name": "Machine_Learning_Models_Evaluation_metrics_Mallesham_Yamulla.ipynb",
      "provenance": [],
      "collapsed_sections": [],
      "machine_shape": "hm",
      "mount_file_id": "1x7UE5H8aRbaJvRiEAs5SXt7pRaF82_JF",
      "authorship_tag": "ABX9TyM5F4mJlpAZGy48pDcApXjb",
      "include_colab_link": true
    },
    "kernelspec": {
      "name": "python3",
      "display_name": "Python 3"
    },
    "language_info": {
      "name": "python"
    }
  },
  "cells": [
    {
      "cell_type": "markdown",
      "metadata": {
        "id": "view-in-github",
        "colab_type": "text"
      },
      "source": [
        "<a href=\"https://colab.research.google.com/github/myamullaciencia/pg_diploma_ai_ml_uohyd/blob/main/Machine_Learning_Models_Evaluation_metrics_Mallesham_Yamulla.ipynb\" target=\"_parent\"><img src=\"https://colab.research.google.com/assets/colab-badge.svg\" alt=\"Open In Colab\"/></a>"
      ]
    },
    {
      "cell_type": "code",
      "metadata": {
        "id": "DR87T-0mZMsF"
      },
      "source": [
        "# Importing libraries\n",
        "import numpy as np\n",
        "import pandas as pd\n",
        "import altair as alt"
      ],
      "execution_count": null,
      "outputs": []
    },
    {
      "cell_type": "code",
      "metadata": {
        "id": "FzqEYewXZiXw"
      },
      "source": [
        "# Data Loading \n",
        "df_5a = pd.read_csv('/content/drive/MyDrive/PG_Diploma_AI_ML_2021_UOHYD/assignments/5_Performance_metrics/5_a.csv')\n",
        "\n",
        "df_5b = pd.read_csv('/content/drive/MyDrive/PG_Diploma_AI_ML_2021_UOHYD/assignments/5_Performance_metrics/5_b.csv')\n",
        "\n",
        "df_5c = pd.read_csv('/content/drive/MyDrive/PG_Diploma_AI_ML_2021_UOHYD/assignments/5_Performance_metrics/5_c.csv')\n",
        "\n",
        "df_5d = pd.read_csv('/content/drive/MyDrive/PG_Diploma_AI_ML_2021_UOHYD/assignments/5_Performance_metrics/5_d.csv')"
      ],
      "execution_count": null,
      "outputs": []
    },
    {
      "cell_type": "markdown",
      "metadata": {
        "id": "dRCA6yGzZ3UJ"
      },
      "source": [
        "## Machine Learning Classification Model Metrics"
      ]
    },
    {
      "cell_type": "code",
      "metadata": {
        "id": "u3qc9PhOaGpZ"
      },
      "source": [
        "# Y label predicted based on threshold at 0.5 \n",
        "df_5a['y_pred_label'] = np.where(df_5a['proba']<0.5,False,True)\n",
        "df_5b['y_pred_label'] = np.where(df_5b['proba']<0.5,False,True)\n",
        "df_5c['y_pred_label'] = np.where(df_5c['prob']<0.5,False,True)"
      ],
      "execution_count": null,
      "outputs": []
    },
    {
      "cell_type": "code",
      "metadata": {
        "id": "3qHoY0sqgTZ9"
      },
      "source": [
        "def my_confusion_matrix(y_actual,y_pred):\n",
        "    \"\"\"Custom Confusion matrix written by mallesham yamulla\"\"\"\n",
        "    TP,TN,FN,FP=0,0,0,0\n",
        "    for item in zip(y_actual,y_pred):\n",
        "        if bool(item[0])==True and item[1]==True:\n",
        "            TP+=1\n",
        "        elif bool(item[0])==False and item[1]==False:\n",
        "            TN+=1\n",
        "        elif bool(item[0])==True and item[1]==False:\n",
        "            FN+=1\n",
        "        else:\n",
        "            FP+=1\n",
        "    conf_matrix = np.array([TN,FP,FN,TP]).reshape(2,2)\n",
        "    return conf_matrix"
      ],
      "execution_count": null,
      "outputs": []
    },
    {
      "cell_type": "code",
      "metadata": {
        "colab": {
          "base_uri": "https://localhost:8080/"
        },
        "id": "hcVsIU2r7J2y",
        "outputId": "ca2c9210-37b3-479b-d55b-555fbf663abf"
      },
      "source": [
        "# Looking at confusion matrix\n",
        "my_confusion_matrix(df_5c.y,df_5c.y_pred_label)"
      ],
      "execution_count": null,
      "outputs": [
        {
          "output_type": "execute_result",
          "data": {
            "text/plain": [
              "array([[1637,  168],\n",
              "       [ 462,  585]])"
            ]
          },
          "metadata": {},
          "execution_count": 84
        }
      ]
    },
    {
      "cell_type": "code",
      "metadata": {
        "colab": {
          "base_uri": "https://localhost:8080/"
        },
        "id": "plKLXtVYbE2x",
        "outputId": "747f9e18-f753-493a-eb77-0d58ef285bbd"
      },
      "source": [
        "co_mat"
      ],
      "execution_count": null,
      "outputs": [
        {
          "output_type": "execute_result",
          "data": {
            "text/plain": [
              "array([[1637,  168],\n",
              "       [ 462,  585]])"
            ]
          },
          "metadata": {},
          "execution_count": 85
        }
      ]
    },
    {
      "cell_type": "code",
      "metadata": {
        "id": "74ikichpzXCA"
      },
      "source": [
        "def my_performance_metrics(conf_matrix):\n",
        "    \"\"\"Custom function to get classification model metrics written by mallesham yamulla\"\"\"\n",
        "    tn, fp, fn, tp = conf_matrix.ravel()\n",
        "    accuracy = np.round((tp+tn)/(tp+tn+fn+fp),3)\n",
        "    precision = np.round(tp/(tp+fp),3)\n",
        "    recall = np.round(tp/(tp+fn),3)\n",
        "    f2_score = np.round(2*precision*recall/(precision+recall),3)\n",
        "    return f'Accuracy: {accuracy},Precision: {precision},Recall: {recall},F1-score {f2_score}'"
      ],
      "execution_count": null,
      "outputs": []
    },
    {
      "cell_type": "code",
      "metadata": {
        "colab": {
          "base_uri": "https://localhost:8080/",
          "height": 35
        },
        "id": "ihBYWplqz-tc",
        "outputId": "88247524-3d2b-4463-ed76-fa3e0a41a6c4"
      },
      "source": [
        "my_performance_metrics(co_mat) "
      ],
      "execution_count": null,
      "outputs": [
        {
          "output_type": "execute_result",
          "data": {
            "application/vnd.google.colaboratory.intrinsic+json": {
              "type": "string"
            },
            "text/plain": [
              "'Accuracy: 0.779,Precision: 0.777,Recall: 0.559,F1-score 0.65'"
            ]
          },
          "metadata": {},
          "execution_count": 87
        }
      ]
    },
    {
      "cell_type": "code",
      "metadata": {
        "id": "bsgwD0oO4nRP"
      },
      "source": [
        "def my_auc_roc_curve(y_true, y_prob,auc_score=True,roc_plot=False):\n",
        "\n",
        "    \"\"\"Custom function to calucate AUC score and plot ROC-AUC curve written by mallesham yamulla\"\"\"\n",
        "\n",
        "    fpr = []\n",
        "    tpr = []\n",
        "    \n",
        "    y_prob = y_prob.sort_values(ascending=False)\n",
        "    thresholds = np.percentile(y_prob,q=list(range(0,102,2)))[::-1]\n",
        "\n",
        "    for tshold in thresholds:\n",
        "        y_pred = np.where(y_prob >tshold, 1, 0)\n",
        "        tn, fp, fn, tp = my_confusion_matrix(y_true,y_pred).ravel()\n",
        "        tpr.append(tp / (tp + fn))\n",
        "        fpr.append(fp / (fp + tn))\n",
        "        \n",
        "    df_X = pd.DataFrame({'tpr':tpr,'fpr':fpr,'threshold':thresholds})\n",
        "\n",
        "    if auc_score is True:\n",
        "        my_auc = np.trapz(df_X.tpr,df_X.fpr)\n",
        "        print(f'AUC score:{my_auc}')\n",
        "\n",
        "    if roc_plot is True:\n",
        "        return alt.Chart(df_X).mark_area(fillOpacity = 0.8, fill = 'green').encode(\n",
        "                                                alt.X('fpr', title=\"false positive rate\"),\n",
        "                                                alt.Y('tpr', title=\"true positive rate\"))"
      ],
      "execution_count": null,
      "outputs": []
    },
    {
      "cell_type": "code",
      "metadata": {
        "colab": {
          "base_uri": "https://localhost:8080/",
          "height": 385
        },
        "id": "B8bLdxjghJJ9",
        "outputId": "b31f9ae9-9d7e-4c3f-9978-fc9ec1c5a5d0"
      },
      "source": [
        "my_auc_roc_curve(df_5a.y,df_5a.proba,roc_plot=True)"
      ],
      "execution_count": null,
      "outputs": [
        {
          "output_type": "stream",
          "name": "stdout",
          "text": [
            "AUC score:0.515554\n"
          ]
        },
        {
          "output_type": "execute_result",
          "data": {
            "text/plain": [
              "alt.Chart(...)"
            ],
            "text/html": [
              "\n",
              "<div id=\"altair-viz-fd0ecb3043e04202933783323aeeb338\"></div>\n",
              "<script type=\"text/javascript\">\n",
              "  (function(spec, embedOpt){\n",
              "    let outputDiv = document.currentScript.previousElementSibling;\n",
              "    if (outputDiv.id !== \"altair-viz-fd0ecb3043e04202933783323aeeb338\") {\n",
              "      outputDiv = document.getElementById(\"altair-viz-fd0ecb3043e04202933783323aeeb338\");\n",
              "    }\n",
              "    const paths = {\n",
              "      \"vega\": \"https://cdn.jsdelivr.net/npm//vega@5?noext\",\n",
              "      \"vega-lib\": \"https://cdn.jsdelivr.net/npm//vega-lib?noext\",\n",
              "      \"vega-lite\": \"https://cdn.jsdelivr.net/npm//vega-lite@4.8.1?noext\",\n",
              "      \"vega-embed\": \"https://cdn.jsdelivr.net/npm//vega-embed@6?noext\",\n",
              "    };\n",
              "\n",
              "    function loadScript(lib) {\n",
              "      return new Promise(function(resolve, reject) {\n",
              "        var s = document.createElement('script');\n",
              "        s.src = paths[lib];\n",
              "        s.async = true;\n",
              "        s.onload = () => resolve(paths[lib]);\n",
              "        s.onerror = () => reject(`Error loading script: ${paths[lib]}`);\n",
              "        document.getElementsByTagName(\"head\")[0].appendChild(s);\n",
              "      });\n",
              "    }\n",
              "\n",
              "    function showError(err) {\n",
              "      outputDiv.innerHTML = `<div class=\"error\" style=\"color:red;\">${err}</div>`;\n",
              "      throw err;\n",
              "    }\n",
              "\n",
              "    function displayChart(vegaEmbed) {\n",
              "      vegaEmbed(outputDiv, spec, embedOpt)\n",
              "        .catch(err => showError(`Javascript Error: ${err.message}<br>This usually means there's a typo in your chart specification. See the javascript console for the full traceback.`));\n",
              "    }\n",
              "\n",
              "    if(typeof define === \"function\" && define.amd) {\n",
              "      requirejs.config({paths});\n",
              "      require([\"vega-embed\"], displayChart, err => showError(`Error loading script: ${err.message}`));\n",
              "    } else if (typeof vegaEmbed === \"function\") {\n",
              "      displayChart(vegaEmbed);\n",
              "    } else {\n",
              "      loadScript(\"vega\")\n",
              "        .then(() => loadScript(\"vega-lite\"))\n",
              "        .then(() => loadScript(\"vega-embed\"))\n",
              "        .catch(showError)\n",
              "        .then(() => displayChart(vegaEmbed));\n",
              "    }\n",
              "  })({\"config\": {\"view\": {\"continuousWidth\": 400, \"continuousHeight\": 300}}, \"data\": {\"name\": \"data-1e6d35c38b3517a80f78232800c0736d\"}, \"mark\": {\"type\": \"area\", \"fill\": \"green\", \"fillOpacity\": 0.8}, \"encoding\": {\"x\": {\"type\": \"quantitative\", \"field\": \"fpr\", \"title\": \"false positive rate\"}, \"y\": {\"type\": \"quantitative\", \"field\": \"tpr\", \"title\": \"true positive rate\"}}, \"$schema\": \"https://vega.github.io/schema/vega-lite/v4.8.1.json\", \"datasets\": {\"data-1e6d35c38b3517a80f78232800c0736d\": [{\"tpr\": 0.0, \"fpr\": 0.0, \"threshold\": 0.8999653487823838}, {\"tpr\": 0.0201, \"fpr\": 0.01, \"threshold\": 0.8912259580560882}, {\"tpr\": 0.0402, \"fpr\": 0.02, \"threshold\": 0.883348273366209}, {\"tpr\": 0.0603, \"fpr\": 0.03, \"threshold\": 0.875228146807171}, {\"tpr\": 0.0804, \"fpr\": 0.04, \"threshold\": 0.8662761190564723}, {\"tpr\": 0.1004, \"fpr\": 0.06, \"threshold\": 0.8586834488366442}, {\"tpr\": 0.1203, \"fpr\": 0.09, \"threshold\": 0.8493663366172102}, {\"tpr\": 0.1405, \"fpr\": 0.09, \"threshold\": 0.8414724658860407}, {\"tpr\": 0.1603, \"fpr\": 0.13, \"threshold\": 0.8330001781273768}, {\"tpr\": 0.1805, \"fpr\": 0.13, \"threshold\": 0.8242151864355196}, {\"tpr\": 0.2001, \"fpr\": 0.19, \"threshold\": 0.8152564115776506}, {\"tpr\": 0.2201, \"fpr\": 0.21, \"threshold\": 0.8061828201695354}, {\"tpr\": 0.2401, \"fpr\": 0.23, \"threshold\": 0.7980736942726436}, {\"tpr\": 0.2601, \"fpr\": 0.25, \"threshold\": 0.7902877851447065}, {\"tpr\": 0.2802, \"fpr\": 0.26, \"threshold\": 0.7806333931759378}, {\"tpr\": 0.3001, \"fpr\": 0.29, \"threshold\": 0.7728042392129104}, {\"tpr\": 0.3203, \"fpr\": 0.29, \"threshold\": 0.7655872910022927}, {\"tpr\": 0.3402, \"fpr\": 0.32, \"threshold\": 0.7575708434310845}, {\"tpr\": 0.3604, \"fpr\": 0.32, \"threshold\": 0.750326340567536}, {\"tpr\": 0.3803, \"fpr\": 0.35, \"threshold\": 0.7430743124089438}, {\"tpr\": 0.4004, \"fpr\": 0.36, \"threshold\": 0.7350870102638227}, {\"tpr\": 0.4205, \"fpr\": 0.37, \"threshold\": 0.7276326373060069}, {\"tpr\": 0.4405, \"fpr\": 0.39, \"threshold\": 0.7200301341609917}, {\"tpr\": 0.4606, \"fpr\": 0.4, \"threshold\": 0.7119064021580577}, {\"tpr\": 0.4806, \"fpr\": 0.42, \"threshold\": 0.7038865390277605}, {\"tpr\": 0.5007, \"fpr\": 0.43, \"threshold\": 0.6970125995581284}, {\"tpr\": 0.5207, \"fpr\": 0.45, \"threshold\": 0.689492495841362}, {\"tpr\": 0.5407, \"fpr\": 0.47, \"threshold\": 0.6818889792576561}, {\"tpr\": 0.5607, \"fpr\": 0.49, \"threshold\": 0.6742171820714531}, {\"tpr\": 0.58, \"fpr\": 0.58, \"threshold\": 0.6663347498050451}, {\"tpr\": 0.6001, \"fpr\": 0.59, \"threshold\": 0.6592629154163139}, {\"tpr\": 0.6201, \"fpr\": 0.61, \"threshold\": 0.6509188967098184}, {\"tpr\": 0.6401, \"fpr\": 0.63, \"threshold\": 0.6426152700922713}, {\"tpr\": 0.6603, \"fpr\": 0.63, \"threshold\": 0.6353301470511823}, {\"tpr\": 0.6803, \"fpr\": 0.65, \"threshold\": 0.6276911028742325}, {\"tpr\": 0.7003, \"fpr\": 0.67, \"threshold\": 0.619827310759345}, {\"tpr\": 0.7201, \"fpr\": 0.71, \"threshold\": 0.6118038848524405}, {\"tpr\": 0.74, \"fpr\": 0.74, \"threshold\": 0.6042569806631191}, {\"tpr\": 0.7598, \"fpr\": 0.78, \"threshold\": 0.5964246408340792}, {\"tpr\": 0.7798, \"fpr\": 0.8, \"threshold\": 0.5868985471864013}, {\"tpr\": 0.7996, \"fpr\": 0.84, \"threshold\": 0.5782468547474482}, {\"tpr\": 0.8196, \"fpr\": 0.86, \"threshold\": 0.571110628193111}, {\"tpr\": 0.8396, \"fpr\": 0.88, \"threshold\": 0.5634772872811533}, {\"tpr\": 0.8596, \"fpr\": 0.9, \"threshold\": 0.5558273543598282}, {\"tpr\": 0.8796, \"fpr\": 0.92, \"threshold\": 0.5481674042724669}, {\"tpr\": 0.8997, \"fpr\": 0.93, \"threshold\": 0.5390504154257705}, {\"tpr\": 0.9196, \"fpr\": 0.96, \"threshold\": 0.5303688177045051}, {\"tpr\": 0.9397, \"fpr\": 0.97, \"threshold\": 0.5224092395751107}, {\"tpr\": 0.9597, \"fpr\": 0.99, \"threshold\": 0.51567727892157}, {\"tpr\": 0.9798, \"fpr\": 1.0, \"threshold\": 0.5078605632803677}, {\"tpr\": 0.9999, \"fpr\": 1.0, \"threshold\": 0.5000185949718864}]}}, {\"mode\": \"vega-lite\"});\n",
              "</script>"
            ]
          },
          "metadata": {},
          "execution_count": 89
        }
      ]
    },
    {
      "cell_type": "code",
      "metadata": {
        "id": "xCv_DwokjdtU"
      },
      "source": [
        "def my_best_threshold(y_true,y_prob):\n",
        "    \"\"\"Compute the best threshold of probability which gives lowest values of metric A for the given data\"\"\"\n",
        "    y_prob = y_prob.sort_values(ascending=False)\n",
        "    thresholds = np.percentile(y_prob,q=list(range(0,102,2)))[::-1]\n",
        "    A_scores = dict()\n",
        "    for tshold in thresholds:\n",
        "        y_pred = np.where(y_prob >tshold, 1, 0)\n",
        "        tn, fp, fn, tp = my_confusion_matrix(y_true,y_pred).ravel()\n",
        "        A_scores[tshold]= (500*fn) + (100*fp)\n",
        "    return f'Threshold and scores:{A_scores} \\n and the one that minimizes the required:{min(A_scores,key=A_scores.get)}'"
      ],
      "execution_count": null,
      "outputs": []
    },
    {
      "cell_type": "code",
      "metadata": {
        "colab": {
          "base_uri": "https://localhost:8080/",
          "height": 137
        },
        "id": "Rvg_7YiNkY94",
        "outputId": "f3e347cd-a628-4256-d880-cdf08aefea48"
      },
      "source": [
        "my_best_threshold(df_5c.y,df_5c.prob)"
      ],
      "execution_count": null,
      "outputs": [
        {
          "output_type": "execute_result",
          "data": {
            "application/vnd.google.colaboratory.intrinsic+json": {
              "type": "string"
            },
            "text/plain": [
              "'Threshold and scores:{0.9577467989277196: 523500, 0.8470200202553659: 529200, 0.7973453948223913: 534900, 0.7431310570360841: 540700, 0.6946998032242866: 546400, 0.6675740403903497: 552000, 0.6409194417096473: 557800, 0.6172848823948487: 563500, 0.5936846405187168: 569200, 0.5746299525773202: 574900, 0.5585083738774866: 580600, 0.5351639771783675: 586300, 0.5173601522155712: 592000, 0.5026176294080309: 597700, 0.4861729458538261: 603400, 0.4715962282910541: 609100, 0.4546986927051802: 614800, 0.4386893992730089: 620500, 0.42793790762488915: 626200, 0.4179667061245119: 631900, 0.40285594157270477: 637600, 0.3898991468830689: 643300, 0.37725160100975563: 649000, 0.36422651226456115: 654700, 0.3519561042012396: 660400, 0.3369349937986683: 666100, 0.32591616269704454: 671800, 0.3154089511890669: 677500, 0.3041509327936817: 683200, 0.2942647882047536: 688900, 0.28199542474907807: 694600, 0.26720329394211645: 700300, 0.25953645129461544: 694000, 0.24843621996608944: 665500, 0.23780567220739413: 637000, 0.2276636573511201: 608500, 0.21732202558098612: 580000, 0.20637877754262973: 551500, 0.19689968892045917: 523000, 0.18609088862264483: 494500, 0.17621954486176772: 466000, 0.16736644120836577: 437500, 0.1589418656117207: 409000, 0.14817183031423672: 380500, 0.1357706346382966: 352000, 0.12495039959211612: 323500, 0.11427366160057689: 295000, 0.09695854744395693: 266500, 0.07330492709134077: 238000, 0.052503477463851055: 209500, 0.02803798623987141: 181000} \\n and the one that minimizes the required:0.02803798623987141'"
            ]
          },
          "metadata": {},
          "execution_count": 91
        }
      ]
    },
    {
      "cell_type": "markdown",
      "metadata": {
        "id": "jBqox4VnaETN"
      },
      "source": [
        "## Machine Learning Regression Model Metrics"
      ]
    },
    {
      "cell_type": "code",
      "metadata": {
        "id": "SscQbc19bK0K"
      },
      "source": [
        "def my_r_squrd(y_actual,y_pred):\n",
        "    \"\"\"Regression model R Squared custom function written by mallesham yamulla\"\"\"\n",
        "    y_mean = np.mean(y_actual)\n",
        "    err = np.array((y_actual - y_pred)**2)\n",
        "    ssr = np.sum(err)\n",
        "    sst = np.sum(np.array((y_actual-y_mean))**2)\n",
        "    return np.round(1 - (ssr/sst),3)"
      ],
      "execution_count": null,
      "outputs": []
    },
    {
      "cell_type": "code",
      "metadata": {
        "colab": {
          "base_uri": "https://localhost:8080/"
        },
        "id": "z4skSn7GbdE8",
        "outputId": "9aa1f362-2b3c-4665-80cd-c49a74a719f1"
      },
      "source": [
        "my_r_squrd(df_5d.y,df_5d.pred)"
      ],
      "execution_count": null,
      "outputs": [
        {
          "output_type": "execute_result",
          "data": {
            "text/plain": [
              "0.956"
            ]
          },
          "metadata": {},
          "execution_count": 93
        }
      ]
    },
    {
      "cell_type": "code",
      "metadata": {
        "id": "v-0Fg4OidN6b"
      },
      "source": [
        "def my_rmse(y_actual,y_pred):\n",
        "    \"\"\"Regression model RMSE custom function written by mallesham yamulla\"\"\"\n",
        "    N=len(y_actual)\n",
        "    sum_err = np.sum(np.array((y_actual - y_pred)**2))\n",
        "    rmse_cal = np.round(np.sqrt(sum_err/N),3)\n",
        "    return rmse_cal"
      ],
      "execution_count": null,
      "outputs": []
    },
    {
      "cell_type": "code",
      "metadata": {
        "colab": {
          "base_uri": "https://localhost:8080/"
        },
        "id": "DaVEqzTqfO3A",
        "outputId": "94022a70-892f-44f9-f37b-43d917b2f701"
      },
      "source": [
        "my_rmse(df_5d.y,df_5d.pred)"
      ],
      "execution_count": null,
      "outputs": [
        {
          "output_type": "execute_result",
          "data": {
            "text/plain": [
              "13.31"
            ]
          },
          "metadata": {},
          "execution_count": 95
        }
      ]
    }
  ]
}