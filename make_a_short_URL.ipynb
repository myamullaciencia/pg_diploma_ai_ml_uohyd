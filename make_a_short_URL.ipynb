{
  "nbformat": 4,
  "nbformat_minor": 0,
  "metadata": {
    "colab": {
      "name": "make_a_short_URL.ipynb",
      "provenance": [],
      "collapsed_sections": [],
      "authorship_tag": "ABX9TyM3N2/2QEP46BYSdrwNCiGA",
      "include_colab_link": true
    },
    "kernelspec": {
      "name": "python3",
      "display_name": "Python 3"
    }
  },
  "cells": [
    {
      "cell_type": "markdown",
      "metadata": {
        "id": "view-in-github",
        "colab_type": "text"
      },
      "source": [
        "<a href=\"https://colab.research.google.com/github/myamullaciencia/pg_diploma_ai_ml_uohyd/blob/main/make_a_short_URL.ipynb\" target=\"_parent\"><img src=\"https://colab.research.google.com/assets/colab-badge.svg\" alt=\"Open In Colab\"/></a>"
      ]
    },
    {
      "cell_type": "code",
      "metadata": {
        "id": "dHq9Yw7bvzja"
      },
      "source": [
        "import random\n",
        "import string\n",
        "import re"
      ],
      "execution_count": 66,
      "outputs": []
    },
    {
      "cell_type": "code",
      "metadata": {
        "id": "FkUElfVQ7okf"
      },
      "source": [
        "class MakeURL:\n",
        "    \"\"\"Short URL creations\"\"\"\n",
        "    def __init__(self):\n",
        "        self.url_dict=dict()\n",
        "    \n",
        "    def short_URL(self,url):\n",
        "        rand_domain = ''.join([''.join(random.choices(string.ascii_letters) + random.choices(string.digits)) for _ in range(4)])\n",
        "        url_short = str(url) + '/' + rand_domain\n",
        "        self.url_dict[rand_domain]=url\n",
        "        return url_short\n",
        "\n",
        "    def short_redirect_URL(self,url):\n",
        "        cut_url = re.findall(r'\\/[\\w]+',url)\n",
        "        cut_url_pro = re.sub(r'\\/','',cut_url[0])\n",
        "        if cut_url_pro in self.url_dict:\n",
        "            return self.url_dict[cut_url_pro]\n",
        "        else:\n",
        "            return \"Page Not Found\""
      ],
      "execution_count": 102,
      "outputs": []
    },
    {
      "cell_type": "code",
      "metadata": {
        "id": "3sBVsPRn8xBi"
      },
      "source": [
        "url_cr = MakeURL()"
      ],
      "execution_count": 103,
      "outputs": []
    },
    {
      "cell_type": "code",
      "metadata": {
        "colab": {
          "base_uri": "https://localhost:8080/",
          "height": 35
        },
        "id": "o1uyABWA_oDF",
        "outputId": "f88a9bd5-79bb-4650-d56e-e98dc6b8caa9"
      },
      "source": [
        "url_cr.short_URL('adaptivemobile.com')"
      ],
      "execution_count": 104,
      "outputs": [
        {
          "output_type": "execute_result",
          "data": {
            "application/vnd.google.colaboratory.intrinsic+json": {
              "type": "string"
            },
            "text/plain": [
              "'adaptivemobile.com/d1l4L3s6'"
            ]
          },
          "metadata": {
            "tags": []
          },
          "execution_count": 104
        }
      ]
    },
    {
      "cell_type": "code",
      "metadata": {
        "colab": {
          "base_uri": "https://localhost:8080/",
          "height": 35
        },
        "id": "T8hFqK2Z_0rZ",
        "outputId": "a2af96a5-a644-4c61-b19b-a87798ce2c0d"
      },
      "source": [
        "url_cr.short_redirect_URL('adaptivemobile.com/d1l4L3s6')"
      ],
      "execution_count": 105,
      "outputs": [
        {
          "output_type": "execute_result",
          "data": {
            "application/vnd.google.colaboratory.intrinsic+json": {
              "type": "string"
            },
            "text/plain": [
              "'adaptivemobile.com'"
            ]
          },
          "metadata": {
            "tags": []
          },
          "execution_count": 105
        }
      ]
    },
    {
      "cell_type": "code",
      "metadata": {
        "colab": {
          "base_uri": "https://localhost:8080/",
          "height": 35
        },
        "id": "2etpLEIX_5sh",
        "outputId": "3a7fb9e3-465d-4d56-9a61-8c960d933d64"
      },
      "source": [
        "url_cr.short_URL('uohyd.ac.in')"
      ],
      "execution_count": 106,
      "outputs": [
        {
          "output_type": "execute_result",
          "data": {
            "application/vnd.google.colaboratory.intrinsic+json": {
              "type": "string"
            },
            "text/plain": [
              "'uohyd.ac.in/j8k6h4z5'"
            ]
          },
          "metadata": {
            "tags": []
          },
          "execution_count": 106
        }
      ]
    },
    {
      "cell_type": "code",
      "metadata": {
        "colab": {
          "base_uri": "https://localhost:8080/",
          "height": 35
        },
        "id": "JP8uKctw__Yn",
        "outputId": "d531d359-1a46-45e5-a955-6f98bb2018bb"
      },
      "source": [
        "url_cr.short_redirect_URL('uohyd.ac.in/j8k6h4z5')"
      ],
      "execution_count": 107,
      "outputs": [
        {
          "output_type": "execute_result",
          "data": {
            "application/vnd.google.colaboratory.intrinsic+json": {
              "type": "string"
            },
            "text/plain": [
              "'uohyd.ac.in'"
            ]
          },
          "metadata": {
            "tags": []
          },
          "execution_count": 107
        }
      ]
    }
  ]
}