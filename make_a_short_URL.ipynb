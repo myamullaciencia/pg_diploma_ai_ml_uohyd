{
  "nbformat": 4,
  "nbformat_minor": 0,
  "metadata": {
    "colab": {
      "name": "make_a_short_URL.ipynb",
      "provenance": [],
      "collapsed_sections": [],
      "authorship_tag": "ABX9TyO7oWnKQT9ceCIOg8yDaBAj",
      "include_colab_link": true
    },
    "kernelspec": {
      "name": "python3",
      "display_name": "Python 3"
    }
  },
  "cells": [
    {
      "cell_type": "markdown",
      "metadata": {
        "id": "view-in-github",
        "colab_type": "text"
      },
      "source": [
        "<a href=\"https://colab.research.google.com/github/myamullaciencia/pg_diploma_ai_ml_uohyd/blob/main/make_a_short_URL.ipynb\" target=\"_parent\"><img src=\"https://colab.research.google.com/assets/colab-badge.svg\" alt=\"Open In Colab\"/></a>"
      ]
    },
    {
      "cell_type": "code",
      "metadata": {
        "id": "dHq9Yw7bvzja"
      },
      "source": [
        "import random\n",
        "import string\n",
        "import re"
      ],
      "execution_count": 66,
      "outputs": []
    },
    {
      "cell_type": "code",
      "metadata": {
        "id": "FkUElfVQ7okf"
      },
      "source": [
        "class MakeURL:\n",
        "\n",
        "    \"\"\"Short URL creations\"\"\"\n",
        "    \n",
        "    def __init__(self):\n",
        "        self.url_dict=dict()\n",
        "    \n",
        "    def short_URL(self,url):\n",
        "        num = random.randint(0,9)\n",
        "        rand_domain = ''.join([''.join(random.choices(string.ascii_letters) + random.choices(string.digits)) for _ in range(num)])\n",
        "        url_short = str(url) + '/' + rand_domain\n",
        "        self.url_dict[rand_domain]=url\n",
        "        return url_short\n",
        "\n",
        "    def short_redirect_URL(self,url):\n",
        "        cut_url = re.findall(r'\\/[\\w]+',url)\n",
        "        cut_url_pro = re.sub(r'\\/','',cut_url[0])\n",
        "        if cut_url_pro in self.url_dict:\n",
        "            return self.url_dict[cut_url_pro]\n",
        "        else:\n",
        "            return \"Page Not Found\""
      ],
      "execution_count": 108,
      "outputs": []
    },
    {
      "cell_type": "code",
      "metadata": {
        "id": "3sBVsPRn8xBi"
      },
      "source": [
        "url_cr = MakeURL()"
      ],
      "execution_count": 109,
      "outputs": []
    },
    {
      "cell_type": "code",
      "metadata": {
        "colab": {
          "base_uri": "https://localhost:8080/",
          "height": 35
        },
        "id": "o1uyABWA_oDF",
        "outputId": "67b17f57-1026-4422-9099-2225a0a0a1d9"
      },
      "source": [
        "url_cr.short_URL('adaptivemobile.com')"
      ],
      "execution_count": 110,
      "outputs": [
        {
          "output_type": "execute_result",
          "data": {
            "application/vnd.google.colaboratory.intrinsic+json": {
              "type": "string"
            },
            "text/plain": [
              "'adaptivemobile.com/M7A6N1z6g2i7M7'"
            ]
          },
          "metadata": {
            "tags": []
          },
          "execution_count": 110
        }
      ]
    },
    {
      "cell_type": "code",
      "metadata": {
        "colab": {
          "base_uri": "https://localhost:8080/",
          "height": 35
        },
        "id": "T8hFqK2Z_0rZ",
        "outputId": "8c26218e-5495-468b-a85d-b7a092865f51"
      },
      "source": [
        "url_cr.short_redirect_URL('adaptivemobile.com/M7A6N1z6g2i7M7')"
      ],
      "execution_count": 111,
      "outputs": [
        {
          "output_type": "execute_result",
          "data": {
            "application/vnd.google.colaboratory.intrinsic+json": {
              "type": "string"
            },
            "text/plain": [
              "'adaptivemobile.com'"
            ]
          },
          "metadata": {
            "tags": []
          },
          "execution_count": 111
        }
      ]
    },
    {
      "cell_type": "code",
      "metadata": {
        "colab": {
          "base_uri": "https://localhost:8080/",
          "height": 35
        },
        "id": "2etpLEIX_5sh",
        "outputId": "ade06211-37dd-4a19-bcbc-5c830fd3e440"
      },
      "source": [
        "url_cr.short_URL('uohyd.ac.in')"
      ],
      "execution_count": 112,
      "outputs": [
        {
          "output_type": "execute_result",
          "data": {
            "application/vnd.google.colaboratory.intrinsic+json": {
              "type": "string"
            },
            "text/plain": [
              "'uohyd.ac.in/v7c8'"
            ]
          },
          "metadata": {
            "tags": []
          },
          "execution_count": 112
        }
      ]
    },
    {
      "cell_type": "code",
      "metadata": {
        "colab": {
          "base_uri": "https://localhost:8080/",
          "height": 35
        },
        "id": "JP8uKctw__Yn",
        "outputId": "280c08bc-7160-4c26-efeb-5de31888e7b7"
      },
      "source": [
        "url_cr.short_redirect_URL('uohyd.ac.in/v7c8')"
      ],
      "execution_count": 113,
      "outputs": [
        {
          "output_type": "execute_result",
          "data": {
            "application/vnd.google.colaboratory.intrinsic+json": {
              "type": "string"
            },
            "text/plain": [
              "'uohyd.ac.in'"
            ]
          },
          "metadata": {
            "tags": []
          },
          "execution_count": 113
        }
      ]
    },
    {
      "cell_type": "code",
      "metadata": {
        "colab": {
          "base_uri": "https://localhost:8080/",
          "height": 35
        },
        "id": "khDBwmz-LrNn",
        "outputId": "b9886f52-a972-4520-f2b3-713fdf4c0f84"
      },
      "source": [
        "url_cr.short_URL('python.org')"
      ],
      "execution_count": 115,
      "outputs": [
        {
          "output_type": "execute_result",
          "data": {
            "application/vnd.google.colaboratory.intrinsic+json": {
              "type": "string"
            },
            "text/plain": [
              "'python.org/D5b1m7o8'"
            ]
          },
          "metadata": {
            "tags": []
          },
          "execution_count": 115
        }
      ]
    },
    {
      "cell_type": "code",
      "metadata": {
        "colab": {
          "base_uri": "https://localhost:8080/",
          "height": 35
        },
        "id": "uvXJev7uL2EG",
        "outputId": "fbc7964c-fd02-4bb7-a350-3af66afd7e2f"
      },
      "source": [
        "url_cr.short_redirect_URL('python.org/D5b1m7o8')"
      ],
      "execution_count": 116,
      "outputs": [
        {
          "output_type": "execute_result",
          "data": {
            "application/vnd.google.colaboratory.intrinsic+json": {
              "type": "string"
            },
            "text/plain": [
              "'python.org'"
            ]
          },
          "metadata": {
            "tags": []
          },
          "execution_count": 116
        }
      ]
    }
  ]
}